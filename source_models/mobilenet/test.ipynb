{
 "cells": [
  {
   "cell_type": "code",
   "execution_count": 8,
   "metadata": {},
   "outputs": [],
   "source": [
    "import tensorflow as tf"
   ]
  },
  {
   "cell_type": "code",
   "execution_count": 12,
   "metadata": {},
   "outputs": [
    {
     "name": "stdout",
     "output_type": "stream",
     "text": [
      "Input tensor shape:  [1 1 1 3] <class 'numpy.uint8'>\n"
     ]
    }
   ],
   "source": [
    "interpreter = tf.lite.Interpreter(model_path='model.tflite')\n",
    "interpreter.allocate_tensors()\n",
    "\n",
    "input_details = interpreter.get_input_details()\n",
    "output_details = interpreter.get_output_details()\n",
    "input_shape = input_details[0]['shape']\n",
    "input_img_shape = tuple(input_shape[1:3])\n",
    "input_type = input_details[0]['dtype']\n",
    "print(\"Input tensor shape: \", input_shape, input_type)"
   ]
  },
  {
   "cell_type": "code",
   "execution_count": 10,
   "metadata": {},
   "outputs": [
    {
     "name": "stdout",
     "output_type": "stream",
     "text": [
      "INFO:tensorflow:Saver not created because there are no variables in the graph to restore\n"
     ]
    },
    {
     "name": "stderr",
     "output_type": "stream",
     "text": [
      "INFO:tensorflow:Saver not created because there are no variables in the graph to restore\n"
     ]
    },
    {
     "name": "stdout",
     "output_type": "stream",
     "text": [
      "INFO:tensorflow:Saver not created because there are no variables in the graph to restore\n"
     ]
    },
    {
     "name": "stderr",
     "output_type": "stream",
     "text": [
      "INFO:tensorflow:Saver not created because there are no variables in the graph to restore\n",
      "2023-07-17 23:22:08.604997: W tensorflow/compiler/mlir/lite/python/tf_tfl_flatbuffer_helpers.cc:364] Ignored output_format.\n",
      "2023-07-17 23:22:08.605028: W tensorflow/compiler/mlir/lite/python/tf_tfl_flatbuffer_helpers.cc:367] Ignored drop_control_dependency.\n",
      "2023-07-17 23:22:08.605183: I tensorflow/cc/saved_model/reader.cc:45] Reading SavedModel from: ssd_mobilenet_v2_coco_2018_03_29/saved_model\n",
      "2023-07-17 23:22:08.625700: I tensorflow/cc/saved_model/reader.cc:91] Reading meta graph with tags { serve }\n",
      "2023-07-17 23:22:08.625727: I tensorflow/cc/saved_model/reader.cc:132] Reading SavedModel debug info (if present) from: ssd_mobilenet_v2_coco_2018_03_29/saved_model\n",
      "2023-07-17 23:22:08.716555: I tensorflow/cc/saved_model/loader.cc:314] SavedModel load for tags { serve }; Status: success: OK. Took 111370 microseconds.\n",
      "2023-07-17 23:22:08.878356: W tensorflow/tsl/framework/cpu_allocator_impl.cc:83] Allocation of 25159680 exceeds 10% of free system memory.\n",
      "2023-07-17 23:22:09.902276: W tensorflow/compiler/mlir/lite/flatbuffer_export.cc:2062] Graph contains the following resource op(s), that use(s) resource type. Currently, the resource type is not natively supported in TFLite. Please consider not using the resource type if there are issues with either TFLite converter or TFLite runtime:\n",
      "Resource ops: TensorArrayGatherV3, TensorArrayReadV3, TensorArrayScatterV3, TensorArraySizeV3, TensorArrayV3, TensorArrayWriteV3\n",
      "Details:\n",
      "\ttf.TensorArrayGatherV3(tensor<2x!tf_type.resource<tensor<*xf32>>>, tensor<?xi32>, tensor<f32>) -> (tensor<?x100x4xf32>) : {_class = [\"loc:@Postprocessor/BatchMultiClassNonMaxSuppression/map/TensorArray_5\"], device = \"\", element_shape = #tf_type.shape<100x4>}\n",
      "\ttf.TensorArrayGatherV3(tensor<2x!tf_type.resource<tensor<*xf32>>>, tensor<?xi32>, tensor<f32>) -> (tensor<?x100xf32>) : {_class = [\"loc:@Postprocessor/BatchMultiClassNonMaxSuppression/map/TensorArray_6\"], device = \"\", element_shape = #tf_type.shape<100>}\n",
      "\ttf.TensorArrayGatherV3(tensor<2x!tf_type.resource<tensor<*xf32>>>, tensor<?xi32>, tensor<f32>) -> (tensor<?x100xf32>) : {_class = [\"loc:@Postprocessor/BatchMultiClassNonMaxSuppression/map/TensorArray_7\"], device = \"\", element_shape = #tf_type.shape<100>}\n",
      "\ttf.TensorArrayGatherV3(tensor<2x!tf_type.resource<tensor<*xf32>>>, tensor<?xi32>, tensor<f32>) -> (tensor<?x300x300x3xf32>) : {_class = [\"loc:@Preprocessor/map/TensorArray_1\"], device = \"\", element_shape = #tf_type.shape<300x300x3>}\n",
      "\ttf.TensorArrayGatherV3(tensor<2x!tf_type.resource<tensor<*xi32>>>, tensor<?xi32>, tensor<f32>) -> (tensor<?x3xi32>) : {_class = [\"loc:@Preprocessor/map/TensorArray_2\"], device = \"\", element_shape = #tf_type.shape<3>}\n",
      "\ttf.TensorArrayGatherV3(tensor<2x!tf_type.resource<tensor<*xi32>>>, tensor<?xi32>, tensor<f32>) -> (tensor<?xi32>) : {_class = [\"loc:@Postprocessor/BatchMultiClassNonMaxSuppression/map/TensorArray_9\"], device = \"\", element_shape = #tf_type.shape<>}\n",
      "\ttf.TensorArrayReadV3(tensor<2x!tf_type.resource<tensor<*xf32>>>, tensor<i32>, tensor<f32>) -> (tensor<*xf32>) : {device = \"\"}\n",
      "\ttf.TensorArrayReadV3(tensor<2x!tf_type.resource<tensor<*xi32>>>, tensor<i32>, tensor<f32>) -> (tensor<*xi32>) : {device = \"\"}\n",
      "\ttf.TensorArrayScatterV3(tensor<2x!tf_type.resource<tensor<*xf32>>>, tensor<?xi32>, tensor<?x1917x1x4xf32>, tensor<f32>) -> (tensor<f32>) : {_class = [\"loc:@Postprocessor/ExpandDims_1\"], device = \"\"}\n",
      "\ttf.TensorArrayScatterV3(tensor<2x!tf_type.resource<tensor<*xf32>>>, tensor<?xi32>, tensor<?x1917x90xf32>, tensor<f32>) -> (tensor<f32>) : {_class = [\"loc:@Postprocessor/Slice\"], device = \"\"}\n",
      "\ttf.TensorArrayScatterV3(tensor<2x!tf_type.resource<tensor<*xf32>>>, tensor<?xi32>, tensor<?x4xf32>, tensor<f32>) -> (tensor<f32>) : {_class = [\"loc:@Postprocessor/stack_1\"], device = \"\"}\n",
      "\ttf.TensorArrayScatterV3(tensor<2x!tf_type.resource<tensor<*xf32>>>, tensor<?xi32>, tensor<?x?x?x3xf32>, tensor<f32>) -> (tensor<f32>) : {_class = [\"loc:@ToFloat\"], device = \"\"}\n",
      "\ttf.TensorArrayScatterV3(tensor<2x!tf_type.resource<tensor<*xi32>>>, tensor<?xi32>, tensor<?xi32>, tensor<f32>) -> (tensor<f32>) : {_class = [\"loc:@Postprocessor/BatchMultiClassNonMaxSuppression/mul\"], device = \"\"}\n",
      "\ttf.TensorArraySizeV3(tensor<2x!tf_type.resource<tensor<*xf32>>>, tensor<f32>) -> (tensor<i32>) : {_class = [\"loc:@Postprocessor/BatchMultiClassNonMaxSuppression/map/TensorArray_5\"], device = \"\"}\n",
      "\ttf.TensorArraySizeV3(tensor<2x!tf_type.resource<tensor<*xf32>>>, tensor<f32>) -> (tensor<i32>) : {_class = [\"loc:@Postprocessor/BatchMultiClassNonMaxSuppression/map/TensorArray_6\"], device = \"\"}\n",
      "\ttf.TensorArraySizeV3(tensor<2x!tf_type.resource<tensor<*xf32>>>, tensor<f32>) -> (tensor<i32>) : {_class = [\"loc:@Postprocessor/BatchMultiClassNonMaxSuppression/map/TensorArray_7\"], device = \"\"}\n",
      "\ttf.TensorArraySizeV3(tensor<2x!tf_type.resource<tensor<*xf32>>>, tensor<f32>) -> (tensor<i32>) : {_class = [\"loc:@Preprocessor/map/TensorArray_1\"], device = \"\"}\n",
      "\ttf.TensorArraySizeV3(tensor<2x!tf_type.resource<tensor<*xi32>>>, tensor<f32>) -> (tensor<i32>) : {_class = [\"loc:@Postprocessor/BatchMultiClassNonMaxSuppression/map/TensorArray_9\"], device = \"\"}\n",
      "\ttf.TensorArraySizeV3(tensor<2x!tf_type.resource<tensor<*xi32>>>, tensor<f32>) -> (tensor<i32>) : {_class = [\"loc:@Preprocessor/map/TensorArray_2\"], device = \"\"}\n",
      "\ttf.TensorArrayV3(tensor<i32>) -> (tensor<2x!tf_type.resource<tensor<*xf32>>>, tensor<f32>) : {clear_after_read = true, device = \"\", dtype = f32, dynamic_size = false, element_shape = #tf_type.shape<*>, identical_element_shapes = true, tensor_array_name = \"\"}\n",
      "\ttf.TensorArrayV3(tensor<i32>) -> (tensor<2x!tf_type.resource<tensor<*xi32>>>, tensor<f32>) : {clear_after_read = true, device = \"\", dtype = i32, dynamic_size = false, element_shape = #tf_type.shape<*>, identical_element_shapes = true, tensor_array_name = \"\"}\n",
      "\ttf.TensorArrayWriteV3(tensor<2x!tf_type.resource<tensor<*xf32>>>, tensor<i32>, tensor<*xf32>, tensor<f32>) -> (tensor<f32>) : {_class = [\"loc:@Postprocessor/BatchMultiClassNonMaxSuppression/map/while/PadOrClipBoxList/cond/Merge\"], device = \"\"}\n",
      "\ttf.TensorArrayWriteV3(tensor<2x!tf_type.resource<tensor<*xf32>>>, tensor<i32>, tensor<*xf32>, tensor<f32>) -> (tensor<f32>) : {_class = [\"loc:@Postprocessor/BatchMultiClassNonMaxSuppression/map/while/PadOrClipBoxList/cond_1/Merge\"], device = \"\"}\n",
      "\ttf.TensorArrayWriteV3(tensor<2x!tf_type.resource<tensor<*xf32>>>, tensor<i32>, tensor<*xf32>, tensor<f32>) -> (tensor<f32>) : {_class = [\"loc:@Postprocessor/BatchMultiClassNonMaxSuppression/map/while/PadOrClipBoxList/cond_3/Merge\"], device = \"\"}\n",
      "\ttf.TensorArrayWriteV3(tensor<2x!tf_type.resource<tensor<*xf32>>>, tensor<i32>, tensor<300x300x?xf32>, tensor<f32>) -> (tensor<f32>) : {_class = [\"loc:@Preprocessor/map/while/ResizeImage/Squeeze\"], device = \"\"}\n",
      "\ttf.TensorArrayWriteV3(tensor<2x!tf_type.resource<tensor<*xi32>>>, tensor<i32>, tensor<3xi32>, tensor<f32>) -> (tensor<f32>) : {_class = [\"loc:@Preprocessor/map/while/ResizeImage/stack_1\"], device = \"\"}\n",
      "\ttf.TensorArrayWriteV3(tensor<2x!tf_type.resource<tensor<*xi32>>>, tensor<i32>, tensor<i32>, tensor<f32>) -> (tensor<f32>) : {_class = [\"loc:@Postprocessor/BatchMultiClassNonMaxSuppression/map/while/strided_slice\"], device = \"\"}\n",
      "2023-07-17 23:22:09.902313: W tensorflow/compiler/mlir/lite/flatbuffer_export.cc:2073] TFLite interpreter needs to link Flex delegate in order to run the model since it contains the following Select TFop(s):\n",
      "Flex ops: FlexNonMaxSuppressionV2, FlexTensorArrayGatherV3, FlexTensorArrayReadV3, FlexTensorArrayScatterV3, FlexTensorArraySizeV3, FlexTensorArrayV3, FlexTensorArrayWriteV3\n",
      "Details:\n",
      "\ttf.NonMaxSuppressionV2(tensor<*xf32>, tensor<?xf32>, tensor<i32>, tensor<f32>) -> (tensor<?xi32>) : {T = f32, T_threshold = f32, device = \"\"}\n",
      "\ttf.TensorArrayGatherV3(tensor<2x!tf_type.resource<tensor<*xf32>>>, tensor<?xi32>, tensor<f32>) -> (tensor<?x100x4xf32>) : {_class = [\"loc:@Postprocessor/BatchMultiClassNonMaxSuppression/map/TensorArray_5\"], device = \"\", element_shape = #tf_type.shape<100x4>}\n",
      "\ttf.TensorArrayGatherV3(tensor<2x!tf_type.resource<tensor<*xf32>>>, tensor<?xi32>, tensor<f32>) -> (tensor<?x100xf32>) : {_class = [\"loc:@Postprocessor/BatchMultiClassNonMaxSuppression/map/TensorArray_6\"], device = \"\", element_shape = #tf_type.shape<100>}\n",
      "\ttf.TensorArrayGatherV3(tensor<2x!tf_type.resource<tensor<*xf32>>>, tensor<?xi32>, tensor<f32>) -> (tensor<?x100xf32>) : {_class = [\"loc:@Postprocessor/BatchMultiClassNonMaxSuppression/map/TensorArray_7\"], device = \"\", element_shape = #tf_type.shape<100>}\n",
      "\ttf.TensorArrayGatherV3(tensor<2x!tf_type.resource<tensor<*xf32>>>, tensor<?xi32>, tensor<f32>) -> (tensor<?x300x300x3xf32>) : {_class = [\"loc:@Preprocessor/map/TensorArray_1\"], device = \"\", element_shape = #tf_type.shape<300x300x3>}\n",
      "\ttf.TensorArrayGatherV3(tensor<2x!tf_type.resource<tensor<*xi32>>>, tensor<?xi32>, tensor<f32>) -> (tensor<?x3xi32>) : {_class = [\"loc:@Preprocessor/map/TensorArray_2\"], device = \"\", element_shape = #tf_type.shape<3>}\n",
      "\ttf.TensorArrayGatherV3(tensor<2x!tf_type.resource<tensor<*xi32>>>, tensor<?xi32>, tensor<f32>) -> (tensor<?xi32>) : {_class = [\"loc:@Postprocessor/BatchMultiClassNonMaxSuppression/map/TensorArray_9\"], device = \"\", element_shape = #tf_type.shape<>}\n",
      "\ttf.TensorArrayReadV3(tensor<2x!tf_type.resource<tensor<*xf32>>>, tensor<i32>, tensor<f32>) -> (tensor<*xf32>) : {device = \"\"}\n",
      "\ttf.TensorArrayReadV3(tensor<2x!tf_type.resource<tensor<*xi32>>>, tensor<i32>, tensor<f32>) -> (tensor<*xi32>) : {device = \"\"}\n",
      "\ttf.TensorArrayScatterV3(tensor<2x!tf_type.resource<tensor<*xf32>>>, tensor<?xi32>, tensor<?x1917x1x4xf32>, tensor<f32>) -> (tensor<f32>) : {_class = [\"loc:@Postprocessor/ExpandDims_1\"], device = \"\"}\n",
      "\ttf.TensorArrayScatterV3(tensor<2x!tf_type.resource<tensor<*xf32>>>, tensor<?xi32>, tensor<?x1917x90xf32>, tensor<f32>) -> (tensor<f32>) : {_class = [\"loc:@Postprocessor/Slice\"], device = \"\"}\n",
      "\ttf.TensorArrayScatterV3(tensor<2x!tf_type.resource<tensor<*xf32>>>, tensor<?xi32>, tensor<?x4xf32>, tensor<f32>) -> (tensor<f32>) : {_class = [\"loc:@Postprocessor/stack_1\"], device = \"\"}\n",
      "\ttf.TensorArrayScatterV3(tensor<2x!tf_type.resource<tensor<*xf32>>>, tensor<?xi32>, tensor<?x?x?x3xf32>, tensor<f32>) -> (tensor<f32>) : {_class = [\"loc:@ToFloat\"], device = \"\"}\n",
      "\ttf.TensorArrayScatterV3(tensor<2x!tf_type.resource<tensor<*xi32>>>, tensor<?xi32>, tensor<?xi32>, tensor<f32>) -> (tensor<f32>) : {_class = [\"loc:@Postprocessor/BatchMultiClassNonMaxSuppression/mul\"], device = \"\"}\n",
      "\ttf.TensorArraySizeV3(tensor<2x!tf_type.resource<tensor<*xf32>>>, tensor<f32>) -> (tensor<i32>) : {_class = [\"loc:@Postprocessor/BatchMultiClassNonMaxSuppression/map/TensorArray_5\"], device = \"\"}\n",
      "\ttf.TensorArraySizeV3(tensor<2x!tf_type.resource<tensor<*xf32>>>, tensor<f32>) -> (tensor<i32>) : {_class = [\"loc:@Postprocessor/BatchMultiClassNonMaxSuppression/map/TensorArray_6\"], device = \"\"}\n",
      "\ttf.TensorArraySizeV3(tensor<2x!tf_type.resource<tensor<*xf32>>>, tensor<f32>) -> (tensor<i32>) : {_class = [\"loc:@Postprocessor/BatchMultiClassNonMaxSuppression/map/TensorArray_7\"], device = \"\"}\n",
      "\ttf.TensorArraySizeV3(tensor<2x!tf_type.resource<tensor<*xf32>>>, tensor<f32>) -> (tensor<i32>) : {_class = [\"loc:@Preprocessor/map/TensorArray_1\"], device = \"\"}\n",
      "\ttf.TensorArraySizeV3(tensor<2x!tf_type.resource<tensor<*xi32>>>, tensor<f32>) -> (tensor<i32>) : {_class = [\"loc:@Postprocessor/BatchMultiClassNonMaxSuppression/map/TensorArray_9\"], device = \"\"}\n",
      "\ttf.TensorArraySizeV3(tensor<2x!tf_type.resource<tensor<*xi32>>>, tensor<f32>) -> (tensor<i32>) : {_class = [\"loc:@Preprocessor/map/TensorArray_2\"], device = \"\"}\n",
      "\ttf.TensorArrayV3(tensor<i32>) -> (tensor<2x!tf_type.resource<tensor<*xf32>>>, tensor<f32>) : {clear_after_read = true, device = \"\", dtype = f32, dynamic_size = false, element_shape = #tf_type.shape<*>, identical_element_shapes = true, tensor_array_name = \"\"}\n",
      "\ttf.TensorArrayV3(tensor<i32>) -> (tensor<2x!tf_type.resource<tensor<*xi32>>>, tensor<f32>) : {clear_after_read = true, device = \"\", dtype = i32, dynamic_size = false, element_shape = #tf_type.shape<*>, identical_element_shapes = true, tensor_array_name = \"\"}\n",
      "\ttf.TensorArrayWriteV3(tensor<2x!tf_type.resource<tensor<*xf32>>>, tensor<i32>, tensor<*xf32>, tensor<f32>) -> (tensor<f32>) : {_class = [\"loc:@Postprocessor/BatchMultiClassNonMaxSuppression/map/while/PadOrClipBoxList/cond/Merge\"], device = \"\"}\n",
      "\ttf.TensorArrayWriteV3(tensor<2x!tf_type.resource<tensor<*xf32>>>, tensor<i32>, tensor<*xf32>, tensor<f32>) -> (tensor<f32>) : {_class = [\"loc:@Postprocessor/BatchMultiClassNonMaxSuppression/map/while/PadOrClipBoxList/cond_1/Merge\"], device = \"\"}\n",
      "\ttf.TensorArrayWriteV3(tensor<2x!tf_type.resource<tensor<*xf32>>>, tensor<i32>, tensor<*xf32>, tensor<f32>) -> (tensor<f32>) : {_class = [\"loc:@Postprocessor/BatchMultiClassNonMaxSuppression/map/while/PadOrClipBoxList/cond_3/Merge\"], device = \"\"}\n",
      "\ttf.TensorArrayWriteV3(tensor<2x!tf_type.resource<tensor<*xf32>>>, tensor<i32>, tensor<300x300x?xf32>, tensor<f32>) -> (tensor<f32>) : {_class = [\"loc:@Preprocessor/map/while/ResizeImage/Squeeze\"], device = \"\"}\n",
      "\ttf.TensorArrayWriteV3(tensor<2x!tf_type.resource<tensor<*xi32>>>, tensor<i32>, tensor<3xi32>, tensor<f32>) -> (tensor<f32>) : {_class = [\"loc:@Preprocessor/map/while/ResizeImage/stack_1\"], device = \"\"}\n",
      "\ttf.TensorArrayWriteV3(tensor<2x!tf_type.resource<tensor<*xi32>>>, tensor<i32>, tensor<i32>, tensor<f32>) -> (tensor<f32>) : {_class = [\"loc:@Postprocessor/BatchMultiClassNonMaxSuppression/map/while/strided_slice\"], device = \"\"}\n",
      "See instructions: https://www.tensorflow.org/lite/guide/ops_select\n"
     ]
    }
   ],
   "source": [
    "# Convert to TFLite\n",
    "converter = tf.lite.TFLiteConverter.from_saved_model('ssd_mobilenet_v2_coco_2018_03_29/saved_model')  # path to the SavedModel directory\n",
    "converter.target_spec.supported_ops = [\n",
    "    tf.lite.OpsSet.TFLITE_BUILTINS, tf.lite.OpsSet.SELECT_TF_OPS]\n",
    "converter._experimental_lower_tensor_list_ops = False\n",
    "tflite_model = converter.convert()\n",
    "\n",
    "# Save the TFLite model\n",
    "with open('model.tflite', 'wb') as f:\n",
    "    f.write(tflite_model)"
   ]
  },
  {
   "cell_type": "code",
   "execution_count": null,
   "metadata": {},
   "outputs": [],
   "source": []
  }
 ],
 "metadata": {
  "kernelspec": {
   "display_name": "tf",
   "language": "python",
   "name": "python3"
  },
  "language_info": {
   "codemirror_mode": {
    "name": "ipython",
    "version": 3
   },
   "file_extension": ".py",
   "mimetype": "text/x-python",
   "name": "python",
   "nbconvert_exporter": "python",
   "pygments_lexer": "ipython3",
   "version": "3.10.12"
  },
  "orig_nbformat": 4
 },
 "nbformat": 4,
 "nbformat_minor": 2
}
