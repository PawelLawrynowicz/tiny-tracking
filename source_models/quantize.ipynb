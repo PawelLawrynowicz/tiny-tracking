{
 "cells": [
  {
   "cell_type": "code",
   "execution_count": 11,
   "metadata": {},
   "outputs": [],
   "source": [
    "import cv2\n",
    "import os\n",
    "import numpy as np\n",
    "import tensorflow as tf\n",
    "from random import Random\n",
    "\n",
    "rng = Random(1410)"
   ]
  },
  {
   "cell_type": "code",
   "execution_count": 12,
   "metadata": {},
   "outputs": [],
   "source": [
    "COCO_IMAGE_PATH = '/home/pwl/Projects/tiny-tracking/COCO/val2017'"
   ]
  },
  {
   "cell_type": "code",
   "execution_count": 13,
   "metadata": {},
   "outputs": [],
   "source": [
    "target_shapes = {\n",
    "    'yolox': (416, 416),\n",
    "}\n",
    "\n",
    "f32_model_paths = {\n",
    "    'yolox': '/home/pwl/Projects/tiny-tracking/source_models/yolox_nano/yolox_nano_ti_lite_26p1_41p8',\n",
    "}"
   ]
  },
  {
   "cell_type": "code",
   "execution_count": 14,
   "metadata": {},
   "outputs": [],
   "source": [
    "image_files = [f for f in os.listdir(COCO_IMAGE_PATH)]\n",
    "rng.shuffle(image_files)\n",
    "selected_images = image_files[:500]\n",
    "\n",
    "def representative_dataset_gen():\n",
    "    for image_name in selected_images:\n",
    "        image_path = os.path.join(COCO_IMAGE_PATH, image_name)\n",
    "        img = cv2.imread(image_path)\n",
    "        img = cv2.cvtColor(img, cv2.COLOR_BGR2RGB)\n",
    "        resized_img = cv2.resize(img, target_shapes['yolox'])\n",
    "        resized_img = np.expand_dims(resized_img, axis=0)\n",
    "        resized_img = resized_img.astype(np.float32)\n",
    "        yield [resized_img]"
   ]
  },
  {
   "cell_type": "code",
   "execution_count": 15,
   "metadata": {},
   "outputs": [
    {
     "name": "stderr",
     "output_type": "stream",
     "text": [
      "2023-07-18 00:07:14.243910: W tensorflow/compiler/mlir/lite/python/tf_tfl_flatbuffer_helpers.cc:364] Ignored output_format.\n",
      "2023-07-18 00:07:14.243933: W tensorflow/compiler/mlir/lite/python/tf_tfl_flatbuffer_helpers.cc:367] Ignored drop_control_dependency.\n",
      "2023-07-18 00:07:14.244103: I tensorflow/cc/saved_model/reader.cc:45] Reading SavedModel from: /home/pwl/Projects/tiny-tracking/source_models/yolox_nano/yolox_nano_ti_lite_26p1_41p8\n",
      "2023-07-18 00:07:14.251311: I tensorflow/cc/saved_model/reader.cc:91] Reading meta graph with tags { serve }\n",
      "2023-07-18 00:07:14.251340: I tensorflow/cc/saved_model/reader.cc:132] Reading SavedModel debug info (if present) from: /home/pwl/Projects/tiny-tracking/source_models/yolox_nano/yolox_nano_ti_lite_26p1_41p8\n",
      "2023-07-18 00:07:14.264030: I tensorflow/cc/saved_model/loader.cc:231] Restoring SavedModel bundle.\n",
      "2023-07-18 00:07:14.303185: I tensorflow/cc/saved_model/loader.cc:215] Running initialization op on SavedModel bundle at path: /home/pwl/Projects/tiny-tracking/source_models/yolox_nano/yolox_nano_ti_lite_26p1_41p8\n",
      "2023-07-18 00:07:14.336811: I tensorflow/cc/saved_model/loader.cc:314] SavedModel load for tags { serve }; Status: success: OK. Took 92707 microseconds.\n",
      "fully_quantize: 0, inference_type: 6, input_inference_type: INT8, output_inference_type: FLOAT32\n",
      "error: illegal scale: INF\n"
     ]
    },
    {
     "data": {
      "text/plain": [
       "7452792"
      ]
     },
     "execution_count": 15,
     "metadata": {},
     "output_type": "execute_result"
    }
   ],
   "source": [
    "\n",
    "converter = tf.lite.TFLiteConverter.from_saved_model(f32_model_paths['yolox'])\n",
    "converter.optimizations = [tf.lite.Optimize.DEFAULT]\n",
    "converter.representative_dataset = representative_dataset_gen\n",
    "converter.target_spec.supported_ops = [tf.lite.OpsSet.TFLITE_BUILTINS_INT8]\n",
    "converter.inference_input_type = tf.int8  # or tf.uint8\n",
    "tflite_quant_model = converter.convert()\n",
    "open(\"yolox_nano_quant.tflite\", \"wb\").write(tflite_quant_model)"
   ]
  }
 ],
 "metadata": {
  "kernelspec": {
   "display_name": "tf",
   "language": "python",
   "name": "python3"
  },
  "language_info": {
   "codemirror_mode": {
    "name": "ipython",
    "version": 3
   },
   "file_extension": ".py",
   "mimetype": "text/x-python",
   "name": "python",
   "nbconvert_exporter": "python",
   "pygments_lexer": "ipython3",
   "version": "3.10.12"
  },
  "orig_nbformat": 4
 },
 "nbformat": 4,
 "nbformat_minor": 2
}
