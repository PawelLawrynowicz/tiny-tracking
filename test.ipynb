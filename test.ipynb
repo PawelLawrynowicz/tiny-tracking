{
 "cells": [
  {
   "cell_type": "code",
   "execution_count": 4,
   "metadata": {},
   "outputs": [],
   "source": [
    "import tensorflow as tf"
   ]
  },
  {
   "cell_type": "code",
   "execution_count": 5,
   "metadata": {},
   "outputs": [
    {
     "name": "stderr",
     "output_type": "stream",
     "text": [
      "2023-07-17 16:10:38.512885: W tensorflow/compiler/mlir/lite/python/tf_tfl_flatbuffer_helpers.cc:364] Ignored output_format.\n",
      "2023-07-17 16:10:38.512909: W tensorflow/compiler/mlir/lite/python/tf_tfl_flatbuffer_helpers.cc:367] Ignored drop_control_dependency.\n",
      "2023-07-17 16:10:38.513055: I tensorflow/cc/saved_model/reader.cc:45] Reading SavedModel from: efficientdet\n",
      "2023-07-17 16:10:38.572706: I tensorflow/cc/saved_model/reader.cc:91] Reading meta graph with tags { serve }\n",
      "2023-07-17 16:10:38.572762: I tensorflow/cc/saved_model/reader.cc:132] Reading SavedModel debug info (if present) from: efficientdet\n",
      "2023-07-17 16:10:38.728844: I tensorflow/cc/saved_model/loader.cc:231] Restoring SavedModel bundle.\n",
      "2023-07-17 16:10:39.385752: I tensorflow/cc/saved_model/loader.cc:215] Running initialization op on SavedModel bundle at path: efficientdet\n",
      "2023-07-17 16:10:39.613477: I tensorflow/cc/saved_model/loader.cc:314] SavedModel load for tags { serve }; Status: success: OK. Took 1100419 microseconds.\n",
      "2023-07-17 16:10:40.534830: W tensorflow/compiler/mlir/lite/flatbuffer_export.cc:2073] TFLite interpreter needs to link Flex delegate in order to run the model since it contains the following Select TFop(s):\n",
      "Flex ops: FlexConv2D, FlexTensorListConcatV2, FlexTensorListReserve, FlexTensorListSetItem\n",
      "Details:\n",
      "\ttf.Conv2D(tensor<?x?x?x?xf32>, tensor<3x3x3x32xf32>) -> (tensor<?x?x?x32xf32>) : {data_format = \"NHWC\", dilations = [1, 1, 1, 1], explicit_paddings = [], padding = \"SAME\", strides = [1, 2, 2, 1], use_cudnn_on_gpu = true}\n",
      "\ttf.TensorListConcatV2(tensor<!tf_type.variant<tensor<*xf32>>>, tensor<2xi32>, tensor<0xi64>) -> (tensor<?x?xf32>, tensor<?xi64>) : {device = \"\"}\n",
      "\ttf.TensorListConcatV2(tensor<!tf_type.variant<tensor<*xf32>>>, tensor<5xi32>, tensor<0xi64>) -> (tensor<?x1x?x?x3xf32>, tensor<?xi64>) : {device = \"\"}\n",
      "\ttf.TensorListConcatV2(tensor<!tf_type.variant<tensor<*xi32>>>, tensor<1xi32>, tensor<0xi64>) -> (tensor<?xi32>, tensor<?xi64>) : {device = \"\"}\n",
      "\ttf.TensorListConcatV2(tensor<!tf_type.variant<tensor<*xi32>>>, tensor<2xi32>, tensor<0xi64>) -> (tensor<?x?xi32>, tensor<?xi64>) : {device = \"\"}\n",
      "\ttf.TensorListReserve(tensor<i32>, tensor<i32>) -> (tensor<!tf_type.variant<tensor<*xf32>>>) : {device = \"\"}\n",
      "\ttf.TensorListReserve(tensor<i32>, tensor<i32>) -> (tensor<!tf_type.variant<tensor<*xi32>>>) : {device = \"\"}\n",
      "\ttf.TensorListSetItem(tensor<!tf_type.variant<tensor<*xf32>>>, tensor<i32>, tensor<1x100xf32>) -> (tensor<!tf_type.variant<tensor<*xf32>>>) : {device = \"\", resize_if_index_out_of_bounds = false}\n",
      "\ttf.TensorListSetItem(tensor<!tf_type.variant<tensor<*xf32>>>, tensor<i32>, tensor<1x1x?x?x3xf32>) -> (tensor<!tf_type.variant<tensor<*xf32>>>) : {device = \"\", resize_if_index_out_of_bounds = false}\n",
      "\ttf.TensorListSetItem(tensor<!tf_type.variant<tensor<*xi32>>>, tensor<i32>, tensor<1x100xi32>) -> (tensor<!tf_type.variant<tensor<*xi32>>>) : {device = \"\", resize_if_index_out_of_bounds = false}\n",
      "\ttf.TensorListSetItem(tensor<!tf_type.variant<tensor<*xi32>>>, tensor<i32>, tensor<1xi32>) -> (tensor<!tf_type.variant<tensor<*xi32>>>) : {device = \"\", resize_if_index_out_of_bounds = false}\n",
      "See instructions: https://www.tensorflow.org/lite/guide/ops_select\n"
     ]
    }
   ],
   "source": [
    "converter = tf.lite.TFLiteConverter.from_saved_model('efficientdet')\n",
    "converter.target_spec.supported_ops = [tf.lite.OpsSet.TFLITE_BUILTINS, tf.lite.OpsSet.SELECT_TF_OPS]\n",
    "converter._experimental_lower_tensor_list_ops = False\n",
    "tflite_model = converter.convert()\n",
    "\n",
    "# Save the model.\n",
    "with open('efficientdet.tflite', 'wb') as f:\n",
    "  f.write(tflite_model)\n"
   ]
  }
 ],
 "metadata": {
  "kernelspec": {
   "display_name": "tf",
   "language": "python",
   "name": "python3"
  },
  "language_info": {
   "codemirror_mode": {
    "name": "ipython",
    "version": 3
   },
   "file_extension": ".py",
   "mimetype": "text/x-python",
   "name": "python",
   "nbconvert_exporter": "python",
   "pygments_lexer": "ipython3",
   "version": "3.10.12"
  },
  "orig_nbformat": 4
 },
 "nbformat": 4,
 "nbformat_minor": 2
}
