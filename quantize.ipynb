{
 "cells": [
  {
   "cell_type": "code",
   "execution_count": 137,
   "metadata": {},
   "outputs": [],
   "source": [
    "import cv2\n",
    "import os\n",
    "import numpy as np\n",
    "import tensorflow as tf\n",
    "from random import Random\n",
    "from tqdm import tqdm\n",
    "from matplotlib import pyplot as plt\n",
    "\n",
    "rng = Random(1410)"
   ]
  },
  {
   "cell_type": "code",
   "execution_count": 138,
   "metadata": {},
   "outputs": [],
   "source": [
    "COCO_IMAGE_PATH = '/home/pwl/Projects/tiny-tracking/COCO/val2017'"
   ]
  },
  {
   "cell_type": "code",
   "execution_count": 139,
   "metadata": {},
   "outputs": [],
   "source": [
    "target_shapes = {\n",
    "    'yolox': (416, 416),\n",
    "    'yolov8': (640, 640),\n",
    "    'efficientdet': (320, 320),\n",
    "\n",
    "}\n",
    "\n",
    "f32_model_paths = {\n",
    "    'yolox': '/home/pwl/Projects/tiny-tracking/source_models/yolox_nano/yolox_nano_ti_lite_26p1_41p8',\n",
    "    'yolov8': '/home/pwl/Projects/tiny-tracking/source_models/yolov8/yolov8_with_signatures',\n",
    "    'efficientdet': '/home/pwl/Projects/tiny-tracking/source_models/efficientdet/efficientdet_lite0_detection_1_with_signatures',\n",
    "    \n",
    "}"
   ]
  },
  {
   "cell_type": "code",
   "execution_count": 140,
   "metadata": {},
   "outputs": [],
   "source": [
    "image_files = [f for f in os.listdir(COCO_IMAGE_PATH)]\n",
    "rng.shuffle(image_files)\n",
    "selected_images = image_files[:500]\n",
    "\n",
    "def representative_dataset_gen():\n",
    "    for image_name in tqdm(selected_images):\n",
    "        image_path = os.path.join(COCO_IMAGE_PATH, image_name)\n",
    "        img = cv2.imread(image_path)\n",
    "        img = cv2.cvtColor(img, cv2.COLOR_BGR2RGB)\n",
    "        resized_img = cv2.resize(img, target_shapes['efficientdet'])\n",
    "        resized_img = np.expand_dims(resized_img, axis=0)\n",
    "        resized_img = resized_img.astype(np.float32)\n",
    "        yield [resized_img]"
   ]
  },
  {
   "cell_type": "code",
   "execution_count": 141,
   "metadata": {},
   "outputs": [
    {
     "name": "stderr",
     "output_type": "stream",
     "text": [
      "2023-07-18 14:56:44.888961: W tensorflow/compiler/mlir/lite/python/tf_tfl_flatbuffer_helpers.cc:364] Ignored output_format.\n",
      "2023-07-18 14:56:44.888987: W tensorflow/compiler/mlir/lite/python/tf_tfl_flatbuffer_helpers.cc:367] Ignored drop_control_dependency.\n",
      "2023-07-18 14:56:44.889160: I tensorflow/cc/saved_model/reader.cc:45] Reading SavedModel from: /home/pwl/Projects/tiny-tracking/source_models/efficientdet/efficientdet_lite0_detection_1_with_signatures\n",
      "2023-07-18 14:56:44.936107: I tensorflow/cc/saved_model/reader.cc:91] Reading meta graph with tags { serve }\n",
      "2023-07-18 14:56:44.936148: I tensorflow/cc/saved_model/reader.cc:132] Reading SavedModel debug info (if present) from: /home/pwl/Projects/tiny-tracking/source_models/efficientdet/efficientdet_lite0_detection_1_with_signatures\n",
      "2023-07-18 14:56:45.066572: I tensorflow/cc/saved_model/loader.cc:231] Restoring SavedModel bundle.\n",
      "2023-07-18 14:56:45.766307: I tensorflow/cc/saved_model/loader.cc:215] Running initialization op on SavedModel bundle at path: /home/pwl/Projects/tiny-tracking/source_models/efficientdet/efficientdet_lite0_detection_1_with_signatures\n",
      "2023-07-18 14:56:46.069060: I tensorflow/cc/saved_model/loader.cc:314] SavedModel load for tags { serve }; Status: success: OK. Took 1179898 microseconds.\n",
      "2023-07-18 14:56:47.411243: W tensorflow/compiler/mlir/lite/flatbuffer_export.cc:2073] TFLite interpreter needs to link Flex delegate in order to run the model since it contains the following Select TFop(s):\n",
      "Flex ops: FlexConv2D, FlexTensorListConcatV2, FlexTensorListReserve, FlexTensorListSetItem\n",
      "Details:\n",
      "\ttf.Conv2D(tensor<?x?x?x?xf32>, tensor<3x3x3x32xf32>) -> (tensor<?x?x?x32xf32>) : {data_format = \"NHWC\", dilations = [1, 1, 1, 1], explicit_paddings = [], padding = \"SAME\", strides = [1, 2, 2, 1], use_cudnn_on_gpu = true}\n",
      "\ttf.TensorListConcatV2(tensor<!tf_type.variant<tensor<*xf32>>>, tensor<2xi32>, tensor<0xi64>) -> (tensor<?x?xf32>, tensor<?xi64>) : {device = \"\"}\n",
      "\ttf.TensorListConcatV2(tensor<!tf_type.variant<tensor<*xf32>>>, tensor<5xi32>, tensor<0xi64>) -> (tensor<?x1x?x?x3xf32>, tensor<?xi64>) : {device = \"\"}\n",
      "\ttf.TensorListConcatV2(tensor<!tf_type.variant<tensor<*xi32>>>, tensor<1xi32>, tensor<0xi64>) -> (tensor<?xi32>, tensor<?xi64>) : {device = \"\"}\n",
      "\ttf.TensorListConcatV2(tensor<!tf_type.variant<tensor<*xi32>>>, tensor<2xi32>, tensor<0xi64>) -> (tensor<?x?xi32>, tensor<?xi64>) : {device = \"\"}\n",
      "\ttf.TensorListReserve(tensor<i32>, tensor<i32>) -> (tensor<!tf_type.variant<tensor<*xf32>>>) : {device = \"\"}\n",
      "\ttf.TensorListReserve(tensor<i32>, tensor<i32>) -> (tensor<!tf_type.variant<tensor<*xi32>>>) : {device = \"\"}\n",
      "\ttf.TensorListSetItem(tensor<!tf_type.variant<tensor<*xf32>>>, tensor<i32>, tensor<1x100xf32>) -> (tensor<!tf_type.variant<tensor<*xf32>>>) : {device = \"\", resize_if_index_out_of_bounds = false}\n",
      "\ttf.TensorListSetItem(tensor<!tf_type.variant<tensor<*xf32>>>, tensor<i32>, tensor<1x1x320x320x3xf32>) -> (tensor<!tf_type.variant<tensor<*xf32>>>) : {device = \"\", resize_if_index_out_of_bounds = false}\n",
      "\ttf.TensorListSetItem(tensor<!tf_type.variant<tensor<*xi32>>>, tensor<i32>, tensor<1x100xi32>) -> (tensor<!tf_type.variant<tensor<*xi32>>>) : {device = \"\", resize_if_index_out_of_bounds = false}\n",
      "\ttf.TensorListSetItem(tensor<!tf_type.variant<tensor<*xi32>>>, tensor<i32>, tensor<1xi32>) -> (tensor<!tf_type.variant<tensor<*xi32>>>) : {device = \"\", resize_if_index_out_of_bounds = false}\n",
      "See instructions: https://www.tensorflow.org/lite/guide/ops_select\n"
     ]
    },
    {
     "data": {
      "text/plain": [
       "3936672"
      ]
     },
     "execution_count": 141,
     "metadata": {},
     "output_type": "execute_result"
    }
   ],
   "source": [
    "converter = tf.lite.TFLiteConverter.from_saved_model(f32_model_paths['efficientdet'])\n",
    "converter.optimizations = [tf.lite.Optimize.DEFAULT]\n",
    "# converter.representative_dataset = representative_dataset_gen\n",
    "converter.target_spec.supported_ops = [tf.lite.OpsSet.TFLITE_BUILTINS, tf.lite.OpsSet.SELECT_TF_OPS]\n",
    "# converter.target_spec.supported_ops = [tf.lite.OpsSet.TFLITE_BUILTINS_INT8]\n",
    "converter.inference_input_type = tf.float32\n",
    "converter.inference_output_type = tf.float32\n",
    "tflite_quant_model = converter.convert()\n",
    "open(\"yolox_nano_dynamic_quant.tflite\", \"wb\").write(tflite_quant_model)"
   ]
  }
 ],
 "metadata": {
  "kernelspec": {
   "display_name": "tf",
   "language": "python",
   "name": "python3"
  },
  "language_info": {
   "codemirror_mode": {
    "name": "ipython",
    "version": 3
   },
   "file_extension": ".py",
   "mimetype": "text/x-python",
   "name": "python",
   "nbconvert_exporter": "python",
   "pygments_lexer": "ipython3",
   "version": "3.10.12"
  },
  "orig_nbformat": 4
 },
 "nbformat": 4,
 "nbformat_minor": 2
}
